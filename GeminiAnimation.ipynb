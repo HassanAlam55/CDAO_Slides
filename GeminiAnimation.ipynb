{
 "cells": [
  {
   "cell_type": "markdown",
   "metadata": {},
   "source": [
    "# Gemini animation"
   ]
  },
  {
   "cell_type": "code",
   "execution_count": 3,
   "metadata": {},
   "outputs": [
    {
     "name": "stderr",
     "output_type": "stream",
     "text": [
      "c:\\Users\\Tiger\\anaconda3\\envs\\Py311Animation\\Lib\\site-packages\\pydub\\utils.py:170: RuntimeWarning: Couldn't find ffmpeg or avconv - defaulting to ffmpeg, but may not work\n",
      "  warn(\"Couldn't find ffmpeg or avconv - defaulting to ffmpeg, but may not work\", RuntimeWarning)\n"
     ]
    }
   ],
   "source": [
    "from manim import *\n",
    "\n",
    "class TugboatAnimation(Scene):\n",
    "    def construct(self):\n",
    "        tugboat = ImageMobject(\"tugboat.png\").scale(0.5)\n",
    "        destroyer = ImageMobject(\"destroyer.png\").scale(0.7)\n",
    "        drydock = ImageMobject(\"drydock.png\").scale(0.8)\n",
    "\n",
    "        self.play(FadeIn(drydock))\n",
    "        self.play(FadeIn(destroyer))\n",
    "        self.play(destroyer.animate.shift(LEFT*3))\n",
    "\n",
    "        self.play(FadeIn(tugboat))\n",
    "        self.play(tugboat.animate.move_to(destroyer.get_left()), destroyer.animate.shift(RIGHT*2))\n",
    "\n",
    "        self.wait()"
   ]
  },
  {
   "cell_type": "code",
   "execution_count": null,
   "metadata": {},
   "outputs": [],
   "source": [
    "!pip install manim"
   ]
  },
  {
   "cell_type": "code",
   "execution_count": null,
   "metadata": {},
   "outputs": [],
   "source": [
    "from pptx import Presentation\n",
    "from pptx.util import Inches\n",
    "\n",
    "prs = Presentation()\n",
    "\n",
    "# Slide Layout\n",
    "slide_layout = prs.slide_layouts[1]\n",
    "slide = prs.slides.add_slide(slide_layout)\n",
    "\n",
    "# Add a Title\n",
    "title = slide.shapes.title\n",
    "title.text = \"Maintenance Backlog\"\n",
    "\n",
    "# Add the Animation\n",
    "left = top = Inches(1)\n",
    "width = height = Inches(8)\n",
    "pic = slide.shapes.add_picture('animation.mp4', left, top, width, height)\n",
    "\n",
    "# Save the Presentation\n",
    "prs.save('naval_maintenance_presentation.pptx')"
   ]
  },
  {
   "cell_type": "code",
   "execution_count": null,
   "metadata": {},
   "outputs": [],
   "source": [
    "from manim import *\n",
    "\n",
    "class TugboatAnimation(Scene):\n",
    "    def construct(self):\n",
    "        tugboat = ImageMobject(\"tugboat.png\").scale(0.5)\n",
    "        destroyer = ImageMobject(\"destroyer.png\").scale(0.7)\n",
    "        drydock = ImageMobject(\"drydock.png\").scale(0.8)\n",
    "\n",
    "        self.play(FadeIn(drydock))\n",
    "        self.play(FadeIn(destroyer))\n",
    "        self.play(destroyer.animate.shift(LEFT*3))\n",
    "\n",
    "        self.play(FadeIn(tugboat))\n",
    "        self.play(tugboat.animate.move_to(destroyer.get_left()), destroyer.animate.shift(RIGHT*2))\n",
    "\n",
    "        self.wait()\n",
    "\n",
    "if __name__ == \"__main__\":\n",
    "    scene = TugboatAnimation()\n",
    "    scene.render()"
   ]
  }
 ],
 "metadata": {
  "kernelspec": {
   "display_name": "Py311Animation",
   "language": "python",
   "name": "python3"
  },
  "language_info": {
   "codemirror_mode": {
    "name": "ipython",
    "version": 3
   },
   "file_extension": ".py",
   "mimetype": "text/x-python",
   "name": "python",
   "nbconvert_exporter": "python",
   "pygments_lexer": "ipython3",
   "version": "3.11.9"
  }
 },
 "nbformat": 4,
 "nbformat_minor": 2
}
